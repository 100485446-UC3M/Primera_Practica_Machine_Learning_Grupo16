{
  "nbformat": 4,
  "nbformat_minor": 0,
  "metadata": {
    "colab": {
      "provenance": [],
      "authorship_tag": "ABX9TyPs4n4OtTIYfQE71LCjIkF6",
      "include_colab_link": true
    },
    "kernelspec": {
      "name": "python3",
      "display_name": "Python 3"
    },
    "language_info": {
      "name": "python"
    }
  },
  "cells": [
    {
      "cell_type": "markdown",
      "metadata": {
        "id": "view-in-github",
        "colab_type": "text"
      },
      "source": [
        "<a href=\"https://colab.research.google.com/github/100485446-UC3M/Primera_Practica_Machine_Learning_Grupo16/blob/main/02_Prediccion_16.ipynb\" target=\"_parent\"><img src=\"https://colab.research.google.com/assets/colab-badge.svg\" alt=\"Open In Colab\"/></a>"
      ]
    },
    {
      "cell_type": "markdown",
      "source": [
        "# Evaluación del Modelo -- Práctica 1\n",
        "## Esteban Gómez Buitrago 100485446\n",
        "## Nicolás Alejandro Cuesta García 100495966\n",
        "## Grupo 16\n",
        "\n",
        "En este fichero se evaluará el modelo elegido sobre un nuevo set de datos."
      ],
      "metadata": {
        "id": "r9YicWZRMNXc"
      }
    },
    {
      "cell_type": "code",
      "execution_count": 6,
      "metadata": {
        "colab": {
          "base_uri": "https://localhost:8080/"
        },
        "id": "XtUOAgn3MJqw",
        "outputId": "e261fbb3-668f-4f2a-9942-d76f3ded97ce"
      },
      "outputs": [
        {
          "output_type": "stream",
          "name": "stdout",
          "text": [
            "Variables cargadas correctamente\n",
            "Imputación: SimpleImputer(strategy='median')\n",
            "Escalado: MinMaxScaler() \n",
            "Predicciones guardadas en 'predicciones_16.csv'\n"
          ]
        },
        {
          "output_type": "stream",
          "name": "stderr",
          "text": [
            "/usr/local/lib/python3.11/dist-packages/sklearn/utils/validation.py:2739: UserWarning: X does not have valid feature names, but MinMaxScaler was fitted with feature names\n",
            "  warnings.warn(\n"
          ]
        }
      ],
      "source": [
        "import pandas as pd\n",
        "from sklearn.preprocessing import StandardScaler, MinMaxScaler, RobustScaler\n",
        "from sklearn.impute import SimpleImputer\n",
        "import joblib\n",
        "\n",
        "#Obtener predicciones sobre el conjunto de la competición\n",
        "data = pd.read_csv('attrition_competition_10.csv.gz')\n",
        "\n",
        "#Cargando variables\n",
        "model_data = joblib.load(\"model_data.pkl\")\n",
        "\n",
        "best_imputer = model_data[\"best_imputer\"]\n",
        "best_scaler = model_data[\"best_scaler\"]\n",
        "selected_features = model_data[\"selected_features\"]\n",
        "\n",
        "best_model = joblib.load(\"modelo_final_16.pkl\")\n",
        "\n",
        "print(\"Variables cargadas correctamente\")\n",
        "#Hacer el onehot_column\n",
        "onehot_columns = ['BusinessTravel', 'Gender','Department', 'EducationField', 'JobRole', 'MaritalStatus']\n",
        "data = pd.get_dummies(data, columns=onehot_columns, drop_first=True)\n",
        "data = data.astype({col: \"Int64\" for col in data.select_dtypes(include=[\"bool\"]).columns})\n",
        "data = data[selected_features]  #Del proceso de MRMR\n",
        "\n",
        "# Aplicar la imputación de valores faltantes\n",
        "best_imputer.fit(data)\n",
        "data = best_imputer.transform(data) #del preprocesado\n",
        "\n",
        "# Aplicar la normalización/escalado\n",
        "best_scaler.fit(data)\n",
        "data = best_scaler.transform(data)\n",
        "print(f\"Imputación: {best_imputer}\")\n",
        "print(f\"Escalado: {best_scaler} \")\n",
        "\n",
        "predictions = best_model.predict(data)\n",
        "\n",
        "# Guardar las predicciones en un archivo CSV\n",
        "df_predictions = pd.DataFrame({\"Prediction\": predictions})\n",
        "df_predictions.to_csv(\"predicciones_16.csv\", index=False)\n",
        "print(\"Predicciones guardadas en 'predicciones_16.csv'\")"
      ]
    }
  ]
}