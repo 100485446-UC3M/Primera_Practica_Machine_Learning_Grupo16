{
  "nbformat": 4,
  "nbformat_minor": 0,
  "metadata": {
    "colab": {
      "provenance": [],
      "authorship_tag": "ABX9TyNTMYR1LKIXjs62aOcQFNEK",
      "include_colab_link": true
    },
    "kernelspec": {
      "name": "python3",
      "display_name": "Python 3"
    },
    "language_info": {
      "name": "python"
    }
  },
  "cells": [
    {
      "cell_type": "markdown",
      "metadata": {
        "id": "view-in-github",
        "colab_type": "text"
      },
      "source": [
        "<a href=\"https://colab.research.google.com/github/100485446-UC3M/Primera_Practica_Machine_Learning_Grupo16/blob/main/Predicciones.ipynb\" target=\"_parent\"><img src=\"https://colab.research.google.com/assets/colab-badge.svg\" alt=\"Open In Colab\"/></a>"
      ]
    },
    {
      "cell_type": "markdown",
      "source": [
        "# Predicciones Práctica 1\n",
        "## Esteban Gómez Buitrago 100485446\n",
        "## Nicolás Alejandro Cuesta García 100495966\n",
        "## Grupo 16"
      ],
      "metadata": {
        "id": "lbg_8VMG0PAV"
      }
    },
    {
      "cell_type": "markdown",
      "source": [
        "## Análisis Exploratorio de Datos\n",
        "\n",
        "PAra realizar este projecto utilizamos los set de datos \"attrition_availabledata_10.csv\" y\"attrition_competition_10.csv\". Decidimos utilizar estos, después de realizar la suma de los últimos dos digitos del NIA 100485446 (4 + 6 = 10).\n",
        "\n",
        "Al analizar los datos, la primera conclusión a la que se puede llegar es que este es un problema de clasificación. Se está realizando un estudio en el cual a través de algunas variables se va a definir si la clase (en este caso, el attributo \"Attrition\") es \"Yes\" o \"No\".\n",
        "\n",
        "Para encontrar ciertos datos importantes para continuar con el análisis, será necesario utilizar ciertas funciones de python. El código y los resultados están descritos a continuación:"
      ],
      "metadata": {
        "id": "hDV9Ynmu88sE"
      }
    },
    {
      "cell_type": "code",
      "source": [
        "import os\n",
        "print(os.getcwd())"
      ],
      "metadata": {
        "colab": {
          "base_uri": "https://localhost:8080/"
        },
        "id": "ULYQPTSWxrud",
        "outputId": "3c2808f9-b25e-46ba-9243-566cafc7b3d2"
      },
      "execution_count": 2,
      "outputs": [
        {
          "output_type": "stream",
          "name": "stdout",
          "text": [
            "/content\n"
          ]
        }
      ]
    },
    {
      "cell_type": "code",
      "source": [
        "#Las librerías necesarias son importadas\n",
        "import pandas as pd"
      ],
      "metadata": {
        "id": "IsTk5FfLIHmo"
      },
      "execution_count": 2,
      "outputs": []
    },
    {
      "cell_type": "code",
      "source": [
        "#Se lee el fichero de datos\n",
        "data = pd.read_csv('attrition_availabledata_10.csv.gz')\n",
        "\n",
        "#Para chequear que sea el set de datos correcto\n",
        "#print(data.head())\n",
        "\n",
        "print(f\"Número de variables (columnas): {data.shape[1] - 1}\")\n",
        "print(f\"Número de instancias (filas): {data.shape[0]}\")\n",
        "valoresvacios = data.isnull().sum()\n",
        "print(\"Valores vacíos por columna:\\n\", valoresvacios.to_dict())\n",
        "print(f\"Número total de valores vacíos: {data.isnull().sum().sum()}\")\n",
        "\n",
        "#Las columnas de tipo object son las categóricas\n",
        "categorical_cols = data.select_dtypes(include=['object'])\n",
        "unique_counts = categorical_cols.nunique()\n",
        "print(\"\\nNúmero de categorías por variable categórica:\\n\", unique_counts.to_dict())\n",
        "constant_columns = data.columns[data.nunique() == 1].tolist()\n",
        "print(\"\\nColumnas constantes:\\n\", constant_columns)\n",
        "id_cols = data.columns[data.nunique() == data.shape[0]]\n",
        "print(\"Columnas de ID:\\n\", id_cols)\n",
        "\n",
        "num_yes = data[\"Attrition\"].eq(\"Yes\").sum()\n",
        "num_no = data[\"Attrition\"].eq(\"No\").sum()\n",
        "Total_attrition = num_no + num_yes\n",
        "if Total_attrition == data.shape[0]:\n",
        "  print(f\"\\nNúmero de empleados que dejaron la empresa (Attrition = Yes): {num_yes}\")\n",
        "  print(f\"Número de empleados que no dejaron la empresa (Attrition = No): {num_no}\")\n",
        "else:\n",
        "  print(\"Error en el número de instancias, hay valores no reconocidos\")\n"
      ],
      "metadata": {
        "colab": {
          "base_uri": "https://localhost:8080/"
        },
        "id": "M_n0KniMG_NA",
        "outputId": "22415223-feee-4cd9-9f90-18c905209e1b"
      },
      "execution_count": 3,
      "outputs": [
        {
          "output_type": "stream",
          "name": "stdout",
          "text": [
            "Número de variables (columnas): 30\n",
            "Número de instancias (filas): 2940\n",
            "Valores vacíos por columna:\n",
            " {'hrs': 0, 'absences': 0, 'JobInvolvement': 0, 'PerformanceRating': 0, 'EnvironmentSatisfaction': 15, 'JobSatisfaction': 12, 'WorkLifeBalance': 29, 'Age': 0, 'BusinessTravel': 0, 'Department': 0, 'DistanceFromHome': 0, 'Education': 0, 'EducationField': 0, 'EmployeeCount': 0, 'EmployeeID': 0, 'Gender': 0, 'JobLevel': 0, 'JobRole': 0, 'MaritalStatus': 0, 'MonthlyIncome': 0, 'NumCompaniesWorked': 17, 'Over18': 0, 'PercentSalaryHike': 0, 'StandardHours': 0, 'StockOptionLevel': 0, 'TotalWorkingYears': 5, 'TrainingTimesLastYear': 0, 'YearsAtCompany': 0, 'YearsSinceLastPromotion': 0, 'YearsWithCurrManager': 0, 'Attrition': 0}\n",
            "Número total de valores vacíos: 78\n",
            "\n",
            "Número de categorías por variable categórica:\n",
            " {'BusinessTravel': 3, 'Department': 3, 'EducationField': 6, 'Gender': 2, 'JobRole': 9, 'MaritalStatus': 3, 'Over18': 1, 'Attrition': 2}\n",
            "\n",
            "Columnas constantes:\n",
            " ['EmployeeCount', 'Over18', 'StandardHours']\n",
            "Columnas de ID:\n",
            " Index(['EmployeeID'], dtype='object')\n",
            "\n",
            "Número de empleados que dejaron la empresa (Attrition = Yes): 474\n",
            "Número de empleados que no dejaron la empresa (Attrition = No): 2466\n"
          ]
        }
      ]
    },
    {
      "cell_type": "markdown",
      "source": [
        "El estudio será realizado con 30 variables y 2940 instancias distintas. Es importante resaltar que al número de variables se le resto la variable \"Attrition\" ya que esta es nuestra variable de calisifcación (objetivo). Después de analizar las variable individualmente encontramos que tenemos variables catégoricas, ordinales y númericas.\n",
        "\n",
        "Las variabes **catégoricas** son (7):   \n",
        "\n",
        "*   BusinessTravel\n",
        "*   Department\n",
        "*   EducationField\n",
        "*   Gender\n",
        "*   JobRole\n",
        "*   MaritalStatus\n",
        "*   Over18\n",
        "\n",
        "Las **númericas** incluyen (15):  \n",
        "\n",
        "*   hrs\n",
        "*   absences\n",
        "*   Age\n",
        "*   DistanceFromHome\n",
        "*   MonthlyIncome\n",
        "*   PercentSalaryHike\n",
        "*   TotalWorkingYears\n",
        "*   TrainingTimesLastYear\n",
        "*   NumCompaniesWorked\n",
        "*   EmployeeCount\n",
        "*   EmployeeID\n",
        "*   StandardHours\n",
        "*   YearsAtCompany\n",
        "*   YearsSinceLastPromotion\n",
        "*   YearsWithCurrManager\n",
        "\n",
        "Finalmente, entre las **ordinales** están (8):\n",
        "\n",
        "*   JobInvolvement\n",
        "*   JobLevel\n",
        "*   Education\n",
        "*   PerformanceRating\n",
        "*   EnvironmentalSatisfaction\n",
        "*   JobSatisfaction\n",
        "*   WorkLifeBalance\n",
        "*   StockOptionLevel\n",
        "\n",
        "Para definir si una variable es de **alta cardinalidad** o no vamos a tomar el límite de **5 categorías**. Tomando este límite podemos ver que **existen 2 variables que tendrían alta cardinalidad**: EducationField (6) y JobRole (9). El resto de variables categóricas tienen 3 o menos categorías cada una, por lo que no tienen una cardinalidad alta.\n",
        "\n",
        "Asimismo, es pertinente analizar si tenemos variables que tengan el mismo valor en todas las instancia (**columnas constantes**).  Como se puede evidenciar en el código anterior, exite una variable \"Over18\", que siempre tiene el mismo valor (\"Y\"). De esta forma se puede concluir que **'Over18', 'EmployeeCount' y 'StandardHours' son una columnas constantes** y no le va a proporciona información útil al modelo, se deberá tratar con ella en el preproceso.\n",
        "\n",
        "Hay que buscar **columnas de ID** que son columnas que tienen un valor diferente para cada instancia, y pueden servir como identificadores. Con el código encontramos que tenemos una columna que cumple con esta descripción. La variable **\"EmployeeID\" es una columna de ID**.\n",
        "\n",
        "Entre todas estas instancias tenemos **78 valores vacíos** dividos en 5 variables: WorkLifeBalance (29),  NumCompaniesWorked: (17), EnvironmentSatisfaction (15), Job Satisfaction (12), y TotalWorkingYears (5). Esto es un factor a tener en cuenta a la hora de realizar el preproceso.\n",
        "\n",
        "Cómo ya se describió antes, este es un problema de **clasificación**, para  finalizar, es pertinente analizar si está balanceado. La variable \"*Attrition*\" es nuestro clasificador, esta puede tener el valor de \"Yes\" o  \"No\". Para saber si está balanceado se debe ver cuantas intancias existen con cada valor. Como se puede ver en el código expuesto previamente, en este caso exiten 474 instancias que tienen en esta variable el valor de  \"Yes\" y 2466 que tienen \"No\". Con esto se puede concluir que el problema **NO está balanceado**, y se tendrá que utilizar una técnica de balanceo durante el preproceso.\n"
      ],
      "metadata": {
        "id": "2N6pLHgoN4S4"
      }
    },
    {
      "cell_type": "markdown",
      "source": [
        "## Preproceso Sin Leakage\n",
        "Durante esta fase se llevarán a cabo 5 tares principales. La primera tarea es remover las columnas constantes o/y ID ya que estas no van a proveer de información útil al modelo. Posteriormente se tratarán los valores vacíos del set de datos."
      ],
      "metadata": {
        "id": "3kfe5S-lu-3M"
      }
    },
    {
      "cell_type": "markdown",
      "source": [
        "### Eliminación de Columnas Constantes y de ID.\n",
        "El primer paso que hay que llevar a cabo es eliminar las columnas constantes y de ID, ya que no van a aportar información al modelo. Esto se puede realizar al momento, ya que no hay peligro de \"Data/Information Leakage\""
      ],
      "metadata": {
        "id": "tczAyIYoZ1sZ"
      }
    },
    {
      "cell_type": "code",
      "source": [
        "import numpy as np\n",
        "import sklearn as sk\n",
        "#Se crea una semilla para poder replicar los resultado y se leen los datos\n",
        "np.random.seed(100495966)\n",
        "\n",
        "#Primero removemos las columnas constantes y de ID.\n",
        "x = data.drop(columns=[\"Over18\", \"EmployeeID\", \"EmployeeCount\", \"StandardHours\", \"Attrition\"])\n",
        "y = data[\"Attrition\"]\n",
        "y =y.map({'Yes': 1, 'No': 0})"
      ],
      "metadata": {
        "id": "rdpk-GC1adO9"
      },
      "execution_count": 4,
      "outputs": []
    },
    {
      "cell_type": "markdown",
      "source": [
        "### Codificación de Variables Categóricas\n",
        "Ahora vamos a codificar las variables c:ategóricas, para esto utilizaremos el método de One-Hot-Encoding."
      ],
      "metadata": {
        "id": "eet3fxcV-xu8"
      }
    },
    {
      "cell_type": "code",
      "source": [
        "onehot_columns = ['BusinessTravel', 'Gender','Department', 'EducationField', 'JobRole', 'MaritalStatus']\n",
        "x = pd.get_dummies(x, columns=onehot_columns, drop_first=True)\n",
        "x = x.astype({col: \"Int64\" for col in x.select_dtypes(include=[\"bool\"]).columns})\n",
        "\n",
        "print(x.head())\n",
        "print(f\"Numero de columnas: {x.shape[1]}\")\n"
      ],
      "metadata": {
        "colab": {
          "base_uri": "https://localhost:8080/"
        },
        "id": "jHn4zdcyc5kj",
        "outputId": "1ef412c7-b339-484e-c753-050a03bfe091"
      },
      "execution_count": 5,
      "outputs": [
        {
          "output_type": "stream",
          "name": "stdout",
          "text": [
            "        hrs  absences  JobInvolvement  PerformanceRating  \\\n",
            "0  7.462297        13               3                  3   \n",
            "1  7.488597         6               1                  3   \n",
            "2  7.116541        16               2                  4   \n",
            "3  9.709125         6               3                  4   \n",
            "4  6.297729         6               4                  3   \n",
            "\n",
            "   EnvironmentSatisfaction  JobSatisfaction  WorkLifeBalance  Age  \\\n",
            "0                      3.0              3.0              3.0   48   \n",
            "1                      3.0              4.0              4.0   31   \n",
            "2                      1.0              1.0              3.0   36   \n",
            "3                      3.0              3.0              3.0   49   \n",
            "4                      3.0              2.0              3.0   40   \n",
            "\n",
            "   DistanceFromHome  Education  ...  JobRole_Human Resources  \\\n",
            "0                12          4  ...                        0   \n",
            "1                 2          2  ...                        0   \n",
            "2                14          3  ...                        0   \n",
            "3                 1          3  ...                        0   \n",
            "4                10          4  ...                        0   \n",
            "\n",
            "   JobRole_Laboratory Technician  JobRole_Manager  \\\n",
            "0                              1                0   \n",
            "1                              0                0   \n",
            "2                              0                0   \n",
            "3                              0                0   \n",
            "4                              0                0   \n",
            "\n",
            "   JobRole_Manufacturing Director  JobRole_Research Director  \\\n",
            "0                               0                          0   \n",
            "1                               1                          0   \n",
            "2                               0                          0   \n",
            "3                               1                          0   \n",
            "4                               1                          0   \n",
            "\n",
            "   JobRole_Research Scientist  JobRole_Sales Executive  \\\n",
            "0                           0                        0   \n",
            "1                           0                        0   \n",
            "2                           1                        0   \n",
            "3                           0                        0   \n",
            "4                           0                        0   \n",
            "\n",
            "   JobRole_Sales Representative  MaritalStatus_Married  MaritalStatus_Single  \n",
            "0                             0                      0                     0  \n",
            "1                             0                      0                     1  \n",
            "2                             0                      1                     0  \n",
            "3                             0                      0                     1  \n",
            "4                             0                      1                     0  \n",
            "\n",
            "[5 rows x 40 columns]\n",
            "Numero de columnas: 40\n"
          ]
        }
      ]
    },
    {
      "cell_type": "markdown",
      "source": [
        "## Preproceso con Leakage"
      ],
      "metadata": {
        "id": "OFfNDpmFao-t"
      }
    },
    {
      "cell_type": "markdown",
      "source": [
        "### Evaluación Interna\n",
        "Vamos a realizar una evaluación interna para determinar cualés son los tipos de normalización y imputación que dan mejor resultado. En esta étaps del proceso de preprocesado hay peligro de fuga de datos (data leakage), por este motivo separaremos los datos en un grupo de entrenamiento y uno de testeo, para evitar una posible fuga de datos.\n"
      ],
      "metadata": {
        "id": "dW7S0u5Bt1bv"
      }
    },
    {
      "cell_type": "markdown",
      "source": [
        "#### Balanceo de datos\n",
        "Antes de analizar cuál es la mejor combinación de escalado y imputación, se debe tratar un tema importante. En la fase de EDA, se concluyó que este problema está desbalanceado, es vital balancearlo al dividir los dato en el set de entrenamiento y testeo. Si esto no se hace, el modelo puede empezar a tender a elegir la opción de la que hay más número en el set de entrenamiento sin realmente basarse en las variables. Para tratar el desbalanceo utilizaremos particiones estratificadas."
      ],
      "metadata": {
        "id": "EO3QQSCB4Prv"
      }
    },
    {
      "cell_type": "code",
      "source": [
        "from sklearn.model_selection import train_test_split, StratifiedKFold, KFold as KFolds\n",
        "\n",
        "# División para la evaluación externa\n",
        "x_train, x_test, y_train, y_test = train_test_split(x, y, test_size=1/3, random_state=100495966, stratify=y)\n",
        "\n",
        "# División para evaluación interna (utilizamos esta función porque es desbalanceado)\n",
        "inner = StratifiedKFold(n_splits=3, shuffle=True, random_state=100495966)\n",
        "\n",
        "interna = {}\n"
      ],
      "metadata": {
        "id": "2JT60p634Jtg"
      },
      "execution_count": 6,
      "outputs": []
    },
    {
      "cell_type": "markdown",
      "source": [
        "#### Selección de Atributos\n",
        "Antes de elegir el método de imputación y estandarización es importante elegir con qué atributos nos vamos a quedar. En todo set de datos se espera que existan variables con mayor y menor influencia en el resultado. Antes de realizar alguna evaluación es importante hacer una selección de atributos, ya que pueden existir algunos que no sean útiles para el modelo. Existen diferentes maneras de determinar la importancia de las variables, estas son algunas de ellas:"
      ],
      "metadata": {
        "id": "miwoHUhSBAz7"
      }
    },
    {
      "cell_type": "markdown",
      "source": [
        "##### Correlación Lineal\n",
        "Es una medida estadística que muestra el grado de relación lineal que existe entre dos variables. En caso que existan dos variables que poseen una correlación lineal muy alta significa que proveen información similar. En algunos casos cuando esto ocurre, una variable se puede eliminar ya que no se pierde una gran cantidad de información (se mantiene la otra variable) y ayuda a reducir la dimensionalidad del problema."
      ],
      "metadata": {
        "id": "CIgB_WjTBQE_"
      }
    },
    {
      "cell_type": "markdown",
      "source": [
        "##### Información Mutua\n",
        "La información mutua muestra qué tanta información aporta un atributo a la variable objetivo. Si hay muy poco valor de información mutua, puede significar que este atributo no aporta significativamente y podría ser eliminado."
      ],
      "metadata": {
        "id": "eNGgvg2i761u"
      }
    },
    {
      "cell_type": "markdown",
      "source": [
        "##### F-Score\n",
        "Es una métrica que evalua la relación entre la varianza interclase (qué tan grande es el rango del atributo entre clase) y la varianza intraclase (qué tan disperso está dentro de cada clase). Un valor alto indica que el atributo es relevante para la clasificación (significa que su distribución es muy diferente entre clase)."
      ],
      "metadata": {
        "id": "NZxceGFAN-Vi"
      }
    },
    {
      "cell_type": "markdown",
      "source": [
        "##### Maximum Relevance Minimum Redundanc (MRMR)\n",
        "Este es el método que vamos a utilizar para analizar los atributos y determinar con cuáles nos vamos a quedar (y va ser nuestra tarea adicional para mejorar los resultados del modelo). Este algoritmo selecciona atributos que tengan fuerte relación con el objetivo (alta relevancia), y debíl relación con las otros características (baja redundancia). Este algoritmo va a tomar en cuenta las tres estrategias antes descritas y definirá cuáles son los mejores atributos con los que quedarse."
      ],
      "metadata": {
        "id": "8-7upzhbvMZ-"
      }
    },
    {
      "cell_type": "code",
      "source": [
        "pip install pymrmr"
      ],
      "metadata": {
        "colab": {
          "base_uri": "https://localhost:8080/"
        },
        "id": "F4U-evxk11NQ",
        "outputId": "7583776c-0767-4e08-a162-e29776c9e893"
      },
      "execution_count": 7,
      "outputs": [
        {
          "output_type": "stream",
          "name": "stdout",
          "text": [
            "Requirement already satisfied: pymrmr in /usr/local/lib/python3.11/dist-packages (0.1.11)\n",
            "Requirement already satisfied: numpy>=1.19.5 in /usr/local/lib/python3.11/dist-packages (from pymrmr) (2.0.2)\n"
          ]
        }
      ]
    },
    {
      "cell_type": "code",
      "source": [
        "import pandas as pd\n",
        "import pymrmr\n",
        "\n",
        "# Convertimos los datos a un DataFrame para usar pymrmr\n",
        "df = pd.DataFrame(x_train, columns=x_train.columns)\n",
        "df['Attrition'] = y_train  # pymrmr requiere la variable objetivo en el mismo DataFrame\n",
        "\n",
        "# Imputación temporal para poder utilizar pymrmr\n",
        "df_filled = df.fillna(0)\n",
        "print(\"Número de valores NaN después de la imputación:\\n\", df_filled.isna().sum().sum())\n",
        "\n",
        "# Número de características a seleccionar\n",
        "num_features = 25\n",
        "\n",
        "# Aplicamos MRMR\n",
        "selected_features = pymrmr.mRMR(df_filled, 'MIQ', num_features)\n",
        "\n",
        "# Removemos la variable objetivo si ha sido seleccionada\n",
        "selected_features = [feat for feat in selected_features if feat != 'Attrition']\n",
        "\n",
        "print(\"Atributos seleccionados:\", selected_features)\n",
        "\n",
        "# Filtramos el conjunto de entrenamiento y prueba con las características seleccionadas\n",
        "x_train = x_train[selected_features]\n",
        "x_test = x_test[selected_features]\n",
        "\n"
      ],
      "metadata": {
        "colab": {
          "base_uri": "https://localhost:8080/"
        },
        "id": "6coLnjXY0iLM",
        "outputId": "79aa0ef0-309c-4ae2-9eb3-50e7205d3d47"
      },
      "execution_count": 7,
      "outputs": [
        {
          "output_type": "stream",
          "name": "stdout",
          "text": [
            "Número de valores NaN después de la imputación:\n",
            " 0\n",
            "Atributos seleccionados: ['MonthlyIncome', 'absences', 'Age', 'PerformanceRating', 'YearsAtCompany', 'JobRole_Human Resources', 'TotalWorkingYears', 'DistanceFromHome', 'PercentSalaryHike', 'EducationField_Other', 'YearsSinceLastPromotion', 'JobRole_Sales Representative', 'JobInvolvement', 'TrainingTimesLastYear', 'JobRole_Research Director', 'WorkLifeBalance', 'YearsWithCurrManager', 'JobRole_Manager', 'Department_Research & Development', 'StockOptionLevel', 'JobLevel', 'NumCompaniesWorked', 'EducationField_Medical', 'Education']\n"
          ]
        }
      ]
    },
    {
      "cell_type": "markdown",
      "source": [
        "#### Imputación\n",
        "Como ya vimos en la fase de EDA, no existe ninguna variable en la que 80% de los datos esten vaciós, por lo que no removeremos ninguna inmediatamente.\n",
        "\n",
        "Ahora, revisamos si hay alguna fila que tenga un gran número valores nulos en las variables (si la hay, se eliminará). Consideramos que un buen limite es que 1/3 de las variables esten vacías. Es importante resaltar que solo eliminamos si tienen muchos datos vacíos porque si decidieramos eliminar todas las filas que tienen al menos un valor NA perderíamos muchos datos.\n",
        "\n",
        "En caso de quedar valores vacíos después de eliminar este tipo de filas, vamos a emplear imputación univaribale. Esto nos va a permitir utilizar dos tipos de imputación, por medio del promedio y del mediano."
      ],
      "metadata": {
        "id": "oOqAF719-h9M"
      }
    },
    {
      "cell_type": "code",
      "source": [
        "#Revisamos las filas\n",
        "threshold = (1/3) * x_train.shape[1]\n",
        "filas_con_muchos_na = x_train[x_train.isna().sum(axis=1) > threshold]\n",
        "print(f\"Filas con más de 30% de sus columnas vacías: {filas_con_muchos_na.shape[0]}\")\n",
        "\n",
        "# Eliminar las filas con más de 30% de valores nulos\n",
        "x_train= x_train.dropna(thresh=threshold)\n",
        "\n",
        "print(\"Se han eliminado las filas pertinentes\")\n"
      ],
      "metadata": {
        "colab": {
          "base_uri": "https://localhost:8080/"
        },
        "id": "rYdPMMHf1PIR",
        "outputId": "c50f9f5d-f49d-44ae-a969-41d15d9edaaf"
      },
      "execution_count": 8,
      "outputs": [
        {
          "output_type": "stream",
          "name": "stdout",
          "text": [
            "Filas con más de 30% de sus columnas vacías: 0\n",
            "Se han eliminado las filas pertinentes\n"
          ]
        }
      ]
    },
    {
      "cell_type": "markdown",
      "source": [
        "#### Normalización\n",
        "En algunos casos hay una diferencia en la magnitud entre variables. Por ejemplo, la columna \"Monthly Income\" maneja valores de 6 o 7 digitos; mientras que \"Education\" tiene valores del 1 al 5. Es importante normalizarlas para que todas tengan un efecto similar en el resultado del modelo. En este caso utilizaremos tres posibilidades de escalados: estandarización, robusto y de rango. Estos emplean diferentes funciones para escalar, por lo que se va determinar cuál es la más efectiva.\n"
      ],
      "metadata": {
        "id": "sgs6eXY2YWfY"
      }
    },
    {
      "cell_type": "markdown",
      "source": [
        "\n",
        " Es posible que los datos de el set de prueba se filtren al set de entrenamiento. Esto daría incrementaría el desempeño del modelo de forma irreal. Para evitar esto decidimos utilizar el método de pipelines. Estos son los procesos que se van incluir en estas pipelines:"
      ],
      "metadata": {
        "id": "Bgocv3h_wyD-"
      }
    },
    {
      "cell_type": "code",
      "source": [
        "from sklearn.pipeline import Pipeline\n",
        "from sklearn.model_selection import cross_validate\n",
        "from sklearn.preprocessing import StandardScaler, MinMaxScaler, RobustScaler\n",
        "from sklearn.neighbors import KNeighborsClassifier\n",
        "from sklearn.experimental import enable_iterative_imputer\n",
        "from sklearn.impute import SimpleImputer\n",
        "\n",
        "\n",
        "# Alternativa 1, KNN, RobustScaler y Median Imputer\n",
        "pipeline_K_R_A = Pipeline([\n",
        "    (\"imputer\", SimpleImputer(strategy=\"median\")),\n",
        "    (\"scaler\", RobustScaler()),\n",
        "    (\"knn\", KNeighborsClassifier())\n",
        "])\n",
        "\n",
        "scores_K_R_A = cross_validate(pipeline_K_R_A, x_train, y_train, cv=inner, scoring=\"balanced_accuracy\")\n",
        "\n",
        "interna[\"KNN con Median Imputer y RobustScaler\"] = scores_K_R_A[\"test_score\"].mean()\n",
        "\n",
        "# Alternativa 2, KNN, StandardScaler y Median Imputer\n",
        "pipeline_K_S_A = Pipeline([\n",
        "    (\"imputer\", SimpleImputer(strategy=\"median\")),\n",
        "    (\"scaler\", StandardScaler()),\n",
        "    (\"knn\", KNeighborsClassifier())\n",
        "])\n",
        "\n",
        "scores_K_S_A = cross_validate(pipeline_K_S_A, x_train, y_train, cv=inner, scoring=\"balanced_accuracy\")\n",
        "\n",
        "interna[\"KNN con Median Imputer y StandardScaler\"] = scores_K_S_A[\"test_score\"].mean()\n",
        "\n",
        "# Alternativa 3, KNN, MinMaxScaler y Median Imputer\n",
        "pipeline_K_M_A = Pipeline([\n",
        "    (\"imputer\", SimpleImputer(strategy=\"median\")),\n",
        "    (\"scaler\", MinMaxScaler()),\n",
        "    (\"knn\", KNeighborsClassifier())\n",
        "])\n",
        "\n",
        "scores_K_M_A = cross_validate(pipeline_K_M_A, x_train, y_train, cv=inner, scoring=\"balanced_accuracy\")\n",
        "\n",
        "interna[\"KNN con Median Imputer y MinMaxScaler\"] = scores_K_M_A[\"test_score\"].mean()\n",
        "\n",
        "# Alternativa 4, KNN, RobustScaler y Mean Imputer\n",
        "pipeline_K_R_B = Pipeline([\n",
        "    (\"imputer\", SimpleImputer(strategy=\"mean\")),\n",
        "    (\"scaler\", RobustScaler()),\n",
        "    (\"knn\", KNeighborsClassifier())\n",
        "])\n",
        "\n",
        "scores_K_R_B = cross_validate(pipeline_K_R_B, x_train, y_train, cv=inner, scoring=\"balanced_accuracy\")\n",
        "\n",
        "interna[\"KNN con Mean Imputer y RobustScaler\"] = scores_K_R_B[\"test_score\"].mean()\n",
        "\n",
        "# Alternativa 5, KNN, Standard Scaler y Mean Imputer\n",
        "pipeline_K_S_B = Pipeline([\n",
        "    (\"imputer\", SimpleImputer(strategy=\"mean\")),\n",
        "    (\"scaler\", StandardScaler()),\n",
        "    (\"knn\", KNeighborsClassifier())\n",
        "])\n",
        "\n",
        "scores_K_S_B = cross_validate(pipeline_K_S_B, x_train, y_train, cv=inner, scoring=\"balanced_accuracy\")\n",
        "\n",
        "interna[\"KNN con Mean Imputer y StandardScaler\"] = scores_K_S_B[\"test_score\"].mean()\n",
        "\n",
        "# Alternativa 6, KNN, MinMax Scaler y Mean Imputer\n",
        "pipeline_K_M_B = Pipeline([\n",
        "    (\"imputer\", SimpleImputer(strategy=\"mean\")),\n",
        "    (\"scaler\", MinMaxScaler()),\n",
        "    (\"knn\", KNeighborsClassifier())\n",
        "])\n",
        "\n",
        "scores_K_M_B = cross_validate(pipeline_K_M_B, x_train, y_train, cv=inner, scoring=\"balanced_accuracy\")\n",
        "\n",
        "interna[\"KNN con Mean Imputer y MinMaxScaler\"] = scores_K_M_B[\"test_score\"].mean()\n",
        "\n",
        "for name, score in interna.items():\n",
        "    print(f\"{name}: {score}\")\n"
      ],
      "metadata": {
        "colab": {
          "base_uri": "https://localhost:8080/"
        },
        "id": "IFP9O1A9XhNC",
        "outputId": "3b004012-6415-44d9-bac3-412d1be34f66"
      },
      "execution_count": 9,
      "outputs": [
        {
          "output_type": "stream",
          "name": "stdout",
          "text": [
            "KNN con Median Imputer y RobustScaler: 0.559356630224968\n",
            "KNN con Median Imputer y StandardScaler: 0.5560410805280659\n",
            "KNN con Median Imputer y MinMaxScaler: 0.5430834552064411\n",
            "KNN con Mean Imputer y RobustScaler: 0.5606248210159518\n",
            "KNN con Mean Imputer y StandardScaler: 0.5560410805280659\n",
            "KNN con Mean Imputer y MinMaxScaler: 0.5411920173660981\n"
          ]
        }
      ]
    },
    {
      "cell_type": "code",
      "source": [
        "import time\n",
        "from sklearn.metrics import make_scorer\n",
        "from sklearn.model_selection import GridSearchCV\n",
        "from sklearn.model_selection import GridSearchCV\n",
        "from sklearn.metrics import make_scorer\n",
        "from sklearn.pipeline import Pipeline\n",
        "from sklearn.preprocessing import StandardScaler, MinMaxScaler, RobustScaler\n",
        "from sklearn.neighbors import KNeighborsClassifier\n",
        "from sklearn.impute import SimpleImputer\n",
        "import time\n",
        "\n",
        "# Definir los parámetros que quieres optimizar\n",
        "param_grid = {\n",
        "    \"knn__n_neighbors\": [3, 5, 7, 9, 11],  # Número de vecinos para KNN\n",
        "    \"knn__weights\": ['uniform', 'distance'],  # Método de ponderación\n",
        "    \"knn__metric\": ['euclidean', 'manhattan', 'chebyshev'],  # Distancia\n",
        "}\n",
        "\n",
        "# 3. Configurar el GridSearchCV\n",
        "grid_search = GridSearchCV(pipeline_K_R_B, param_grid, cv=3, n_jobs=-1, scoring=\"balanced_accuracy\", verbose=3)\n",
        "\n",
        "# 4. Medir el tiempo de entrenamiento\n",
        "start_time = time.time()\n",
        "\n",
        "# Ajustar los hiperparámetros\n",
        "grid_search.fit(x_train, y_train)\n",
        "\n",
        "# 5. Calcular el tiempo de entrenamiento\n",
        "end_time = time.time()\n",
        "training_time = end_time - start_time\n",
        "\n",
        "# 6. Mostrar los mejores hiperparámetros encontrados\n",
        "print(f\"Mejores hiperparámetros: {grid_search.best_params_}\")\n",
        "\n",
        "# 7. Obtener el mejor modelo después de HPO\n",
        "best_model = grid_search.best_estimator_\n"
      ],
      "metadata": {
        "colab": {
          "base_uri": "https://localhost:8080/"
        },
        "id": "1Jzw3l2hKjuE",
        "outputId": "f632af83-7ecd-49ec-fca3-315c85420187"
      },
      "execution_count": 12,
      "outputs": [
        {
          "output_type": "stream",
          "name": "stdout",
          "text": [
            "Fitting 3 folds for each of 30 candidates, totalling 90 fits\n",
            "Mejores hiperparámetros: {'knn__metric': 'manhattan', 'knn__n_neighbors': 3, 'knn__weights': 'distance'}\n"
          ]
        }
      ]
    },
    {
      "cell_type": "markdown",
      "source": [
        "### Evaluación Externa\n",
        "De la evaluación interna realizada se puede concluir que hubo una combinación que fue un poco más acertada que las demás. Esta combinación es una normalización con RobustScaler y una imputación con la mediana. Ahora se realiza la estimación del desempeño con respecto a la variable. Las ,étricas que vamos a utilizar para analizar el desempeño son: balanced accuracy, TPR (accuracy de la clase positiva), TNR (accuracy de la clase negativa) y accuracy. Para facilitar el entendimiento de las métricas utilizaremos una matrix de confusión."
      ],
      "metadata": {
        "id": "eUmC_meJsx7P"
      }
    },
    {
      "cell_type": "code",
      "source": [
        "from sklearn.metrics import confusion_matrix, balanced_accuracy_score, accuracy_score\n",
        "from sklearn.model_selection import cross_val_predict\n",
        "import matplotlib.pyplot as plt\n",
        "import seaborn as sns\n",
        "\n",
        "#y_pred = cross_val_predict(pipeline_K_M_A, x_train, y_train, cv=inner)\n",
        "\n",
        "best_model.fit(x_train, y_train)\n",
        "y_pred = best_model.predict(x_test)\n",
        "\n",
        "# Calcular la matriz de confusión\n",
        "cm = confusion_matrix(y_test, y_pred)\n",
        "TP = cm[1, 1]  # Verdaderos positivos\n",
        "TN = cm[0, 0]  # Verdaderos negativos\n",
        "FP = cm[0, 1]  # Falsos positivos\n",
        "FN = cm[1, 0]  # Falsos negativos\n",
        "\n",
        "# Calcular las métricas\n",
        "accuracy = accuracy_score(y_test, y_pred)\n",
        "balanced_accuracy = balanced_accuracy_score(y_test, y_pred)\n",
        "TPR = TP / (TP + FN)  # Sensitividad (Proporción positivas clasificadas correctamente)\n",
        "TNR = TN / (TN + FP)  # Especificidad (Proporción clasificadas postivas que si los son)\n",
        "\n",
        "# Guardar los resultados\n",
        "metricas= {}\n",
        "\n",
        "# Imprimir el nombre del mejor modelo y sus hiperparámetros\n",
        "print(f\"Mejor modelo: {grid_search.best_estimator_}\")\n",
        "\n",
        "metricas[\"Mejor modelo: \"] = {\n",
        "    \"Accuracy\": accuracy,\n",
        "    \"Balanced Accuracy\": balanced_accuracy,\n",
        "    \"TPR (Sensitivity)\": TPR,\n",
        "    \"TNR (Specificity)\": TNR\n",
        "}\n",
        "\n",
        "# Mostrar los resultados\n",
        "for name, metrics in metricas.items():\n",
        "    print(f\"{name}:\")\n",
        "    if isinstance(metrics, dict):  # Verificamos si el valor es un diccionario\n",
        "        for metric, value in metrics.items():\n",
        "            print(f\"  {metric}: {value}\")\n",
        "    else:  # Si es un valor numérico\n",
        "        print(f\"  Score: {metrics}\")\n",
        "\n",
        "# Dibujar la matriz de confusión usando seaborn\n",
        "plt.figure(figsize=(8, 6))\n",
        "sns.heatmap(cm, annot=True, fmt=\"d\", cmap=\"Blues\", xticklabels=[\"No\", \"Yes\"], yticklabels=[\"No\", \"Yes\"])\n",
        "plt.title(\"Matriz de Confusión\")\n",
        "plt.xlabel(\"Predicción\")\n",
        "plt.ylabel(\"Verdadero\")\n",
        "plt.show()"
      ],
      "metadata": {
        "colab": {
          "base_uri": "https://localhost:8080/",
          "height": 720
        },
        "id": "ellc-_DUu40V",
        "outputId": "8eeb890a-fc62-4494-c4dc-43f6023a42ae"
      },
      "execution_count": 13,
      "outputs": [
        {
          "output_type": "stream",
          "name": "stdout",
          "text": [
            "Mejor modelo: Pipeline(steps=[('imputer', SimpleImputer()), ('scaler', RobustScaler()),\n",
            "                ('knn',\n",
            "                 KNeighborsClassifier(metric='manhattan', n_neighbors=3,\n",
            "                                      weights='distance'))])\n",
            "Mejor modelo: :\n",
            "  Accuracy: 0.926530612244898\n",
            "  Balanced Accuracy: 0.8718469925159382\n",
            "  TPR (Sensitivity): 0.7911392405063291\n",
            "  TNR (Specificity): 0.9525547445255474\n"
          ]
        },
        {
          "output_type": "display_data",
          "data": {
            "text/plain": [
              "<Figure size 800x600 with 2 Axes>"
            ],
            "image/png": "[encoded data removed]"
          },
          "metadata": {}
        }
      ]
    }
  ]
}